{
 "cells": [
  {
   "cell_type": "markdown",
   "id": "da64ef03-8272-4086-b84a-45348937e1e8",
   "metadata": {},
   "source": [
    "# House prices\n",
    "\n"
   ]
  },
  {
   "cell_type": "code",
   "execution_count": 343,
   "id": "c7f7e98b-3648-4823-b8f8-4b2d7e6921a1",
   "metadata": {},
   "outputs": [],
   "source": [
    "# import libraries\n",
    "import matplotlib.pyplot as plt                      # data visualization\n",
    "import pandas as pd                                  # data science essentials\n",
    "from sklearn.model_selection import train_test_split # train-test split\n",
    "import sklearn.linear_model as linear_model          # linear modeling in scikit-learn\n",
    "import sklearn.ensemble as ensemble                  # tree regressor in scikit-learn\n",
    "import numpy as np                                   # numpy library for math functions and arrays\n",
    "from sklearn.metrics import mean_squared_error"
   ]
  },
  {
   "cell_type": "code",
   "execution_count": 344,
   "id": "2ed779bb-8f72-4963-943f-30747a96be3b",
   "metadata": {},
   "outputs": [],
   "source": [
    "train = pd.read_csv('train.csv')\n",
    "test = pd.read_csv('test.csv')"
   ]
  },
  {
   "cell_type": "code",
   "execution_count": 345,
   "id": "199b3cde-adb9-4920-a45b-5e56f8618b0c",
   "metadata": {},
   "outputs": [
    {
     "data": {
      "text/html": [
       "<div>\n",
       "<style scoped>\n",
       "    .dataframe tbody tr th:only-of-type {\n",
       "        vertical-align: middle;\n",
       "    }\n",
       "\n",
       "    .dataframe tbody tr th {\n",
       "        vertical-align: top;\n",
       "    }\n",
       "\n",
       "    .dataframe thead th {\n",
       "        text-align: right;\n",
       "    }\n",
       "</style>\n",
       "<table border=\"1\" class=\"dataframe\">\n",
       "  <thead>\n",
       "    <tr style=\"text-align: right;\">\n",
       "      <th></th>\n",
       "      <th>Id</th>\n",
       "      <th>MSSubClass</th>\n",
       "      <th>MSZoning</th>\n",
       "      <th>LotFrontage</th>\n",
       "      <th>LotArea</th>\n",
       "      <th>Street</th>\n",
       "      <th>Alley</th>\n",
       "      <th>LotShape</th>\n",
       "      <th>LandContour</th>\n",
       "      <th>Utilities</th>\n",
       "      <th>...</th>\n",
       "      <th>PoolArea</th>\n",
       "      <th>PoolQC</th>\n",
       "      <th>Fence</th>\n",
       "      <th>MiscFeature</th>\n",
       "      <th>MiscVal</th>\n",
       "      <th>MoSold</th>\n",
       "      <th>YrSold</th>\n",
       "      <th>SaleType</th>\n",
       "      <th>SaleCondition</th>\n",
       "      <th>SalePrice</th>\n",
       "    </tr>\n",
       "  </thead>\n",
       "  <tbody>\n",
       "    <tr>\n",
       "      <th>0</th>\n",
       "      <td>1</td>\n",
       "      <td>60</td>\n",
       "      <td>RL</td>\n",
       "      <td>65.0</td>\n",
       "      <td>8450</td>\n",
       "      <td>Pave</td>\n",
       "      <td>NaN</td>\n",
       "      <td>Reg</td>\n",
       "      <td>Lvl</td>\n",
       "      <td>AllPub</td>\n",
       "      <td>...</td>\n",
       "      <td>0</td>\n",
       "      <td>NaN</td>\n",
       "      <td>NaN</td>\n",
       "      <td>NaN</td>\n",
       "      <td>0</td>\n",
       "      <td>2</td>\n",
       "      <td>2008</td>\n",
       "      <td>WD</td>\n",
       "      <td>Normal</td>\n",
       "      <td>208500</td>\n",
       "    </tr>\n",
       "    <tr>\n",
       "      <th>1</th>\n",
       "      <td>2</td>\n",
       "      <td>20</td>\n",
       "      <td>RL</td>\n",
       "      <td>80.0</td>\n",
       "      <td>9600</td>\n",
       "      <td>Pave</td>\n",
       "      <td>NaN</td>\n",
       "      <td>Reg</td>\n",
       "      <td>Lvl</td>\n",
       "      <td>AllPub</td>\n",
       "      <td>...</td>\n",
       "      <td>0</td>\n",
       "      <td>NaN</td>\n",
       "      <td>NaN</td>\n",
       "      <td>NaN</td>\n",
       "      <td>0</td>\n",
       "      <td>5</td>\n",
       "      <td>2007</td>\n",
       "      <td>WD</td>\n",
       "      <td>Normal</td>\n",
       "      <td>181500</td>\n",
       "    </tr>\n",
       "    <tr>\n",
       "      <th>2</th>\n",
       "      <td>3</td>\n",
       "      <td>60</td>\n",
       "      <td>RL</td>\n",
       "      <td>68.0</td>\n",
       "      <td>11250</td>\n",
       "      <td>Pave</td>\n",
       "      <td>NaN</td>\n",
       "      <td>IR1</td>\n",
       "      <td>Lvl</td>\n",
       "      <td>AllPub</td>\n",
       "      <td>...</td>\n",
       "      <td>0</td>\n",
       "      <td>NaN</td>\n",
       "      <td>NaN</td>\n",
       "      <td>NaN</td>\n",
       "      <td>0</td>\n",
       "      <td>9</td>\n",
       "      <td>2008</td>\n",
       "      <td>WD</td>\n",
       "      <td>Normal</td>\n",
       "      <td>223500</td>\n",
       "    </tr>\n",
       "    <tr>\n",
       "      <th>3</th>\n",
       "      <td>4</td>\n",
       "      <td>70</td>\n",
       "      <td>RL</td>\n",
       "      <td>60.0</td>\n",
       "      <td>9550</td>\n",
       "      <td>Pave</td>\n",
       "      <td>NaN</td>\n",
       "      <td>IR1</td>\n",
       "      <td>Lvl</td>\n",
       "      <td>AllPub</td>\n",
       "      <td>...</td>\n",
       "      <td>0</td>\n",
       "      <td>NaN</td>\n",
       "      <td>NaN</td>\n",
       "      <td>NaN</td>\n",
       "      <td>0</td>\n",
       "      <td>2</td>\n",
       "      <td>2006</td>\n",
       "      <td>WD</td>\n",
       "      <td>Abnorml</td>\n",
       "      <td>140000</td>\n",
       "    </tr>\n",
       "    <tr>\n",
       "      <th>4</th>\n",
       "      <td>5</td>\n",
       "      <td>60</td>\n",
       "      <td>RL</td>\n",
       "      <td>84.0</td>\n",
       "      <td>14260</td>\n",
       "      <td>Pave</td>\n",
       "      <td>NaN</td>\n",
       "      <td>IR1</td>\n",
       "      <td>Lvl</td>\n",
       "      <td>AllPub</td>\n",
       "      <td>...</td>\n",
       "      <td>0</td>\n",
       "      <td>NaN</td>\n",
       "      <td>NaN</td>\n",
       "      <td>NaN</td>\n",
       "      <td>0</td>\n",
       "      <td>12</td>\n",
       "      <td>2008</td>\n",
       "      <td>WD</td>\n",
       "      <td>Normal</td>\n",
       "      <td>250000</td>\n",
       "    </tr>\n",
       "  </tbody>\n",
       "</table>\n",
       "<p>5 rows × 81 columns</p>\n",
       "</div>"
      ],
      "text/plain": [
       "   Id  MSSubClass MSZoning  LotFrontage  LotArea Street Alley LotShape  \\\n",
       "0   1          60       RL         65.0     8450   Pave   NaN      Reg   \n",
       "1   2          20       RL         80.0     9600   Pave   NaN      Reg   \n",
       "2   3          60       RL         68.0    11250   Pave   NaN      IR1   \n",
       "3   4          70       RL         60.0     9550   Pave   NaN      IR1   \n",
       "4   5          60       RL         84.0    14260   Pave   NaN      IR1   \n",
       "\n",
       "  LandContour Utilities  ... PoolArea PoolQC Fence MiscFeature MiscVal MoSold  \\\n",
       "0         Lvl    AllPub  ...        0    NaN   NaN         NaN       0      2   \n",
       "1         Lvl    AllPub  ...        0    NaN   NaN         NaN       0      5   \n",
       "2         Lvl    AllPub  ...        0    NaN   NaN         NaN       0      9   \n",
       "3         Lvl    AllPub  ...        0    NaN   NaN         NaN       0      2   \n",
       "4         Lvl    AllPub  ...        0    NaN   NaN         NaN       0     12   \n",
       "\n",
       "  YrSold  SaleType  SaleCondition  SalePrice  \n",
       "0   2008        WD         Normal     208500  \n",
       "1   2007        WD         Normal     181500  \n",
       "2   2008        WD         Normal     223500  \n",
       "3   2006        WD        Abnorml     140000  \n",
       "4   2008        WD         Normal     250000  \n",
       "\n",
       "[5 rows x 81 columns]"
      ]
     },
     "execution_count": 345,
     "metadata": {},
     "output_type": "execute_result"
    }
   ],
   "source": [
    "train.head()"
   ]
  },
  {
   "cell_type": "code",
   "execution_count": 346,
   "id": "4b4ae169-a236-4a66-8393-049b998ec69b",
   "metadata": {},
   "outputs": [
    {
     "data": {
      "text/plain": [
       "Index(['Id', 'MSSubClass', 'MSZoning', 'LotFrontage', 'LotArea', 'Street',\n",
       "       'Alley', 'LotShape', 'LandContour', 'Utilities', 'LotConfig',\n",
       "       'LandSlope', 'Neighborhood', 'Condition1', 'Condition2', 'BldgType',\n",
       "       'HouseStyle', 'OverallQual', 'OverallCond', 'YearBuilt', 'YearRemodAdd',\n",
       "       'RoofStyle', 'RoofMatl', 'Exterior1st', 'Exterior2nd', 'MasVnrType',\n",
       "       'MasVnrArea', 'ExterQual', 'ExterCond', 'Foundation', 'BsmtQual',\n",
       "       'BsmtCond', 'BsmtExposure', 'BsmtFinType1', 'BsmtFinSF1',\n",
       "       'BsmtFinType2', 'BsmtFinSF2', 'BsmtUnfSF', 'TotalBsmtSF', 'Heating',\n",
       "       'HeatingQC', 'CentralAir', 'Electrical', '1stFlrSF', '2ndFlrSF',\n",
       "       'LowQualFinSF', 'GrLivArea', 'BsmtFullBath', 'BsmtHalfBath', 'FullBath',\n",
       "       'HalfBath', 'BedroomAbvGr', 'KitchenAbvGr', 'KitchenQual',\n",
       "       'TotRmsAbvGrd', 'Functional', 'Fireplaces', 'FireplaceQu', 'GarageType',\n",
       "       'GarageYrBlt', 'GarageFinish', 'GarageCars', 'GarageArea', 'GarageQual',\n",
       "       'GarageCond', 'PavedDrive', 'WoodDeckSF', 'OpenPorchSF',\n",
       "       'EnclosedPorch', '3SsnPorch', 'ScreenPorch', 'PoolArea', 'PoolQC',\n",
       "       'Fence', 'MiscFeature', 'MiscVal', 'MoSold', 'YrSold', 'SaleType',\n",
       "       'SaleCondition', 'SalePrice'],\n",
       "      dtype='object')"
      ]
     },
     "execution_count": 346,
     "metadata": {},
     "output_type": "execute_result"
    }
   ],
   "source": [
    "train.columns"
   ]
  },
  {
   "cell_type": "markdown",
   "id": "0b78180b-7159-4fc8-ad07-1c1fa930e90c",
   "metadata": {},
   "source": [
    "## Data cleaning and exploration"
   ]
  },
  {
   "cell_type": "code",
   "execution_count": 347,
   "id": "267dd3de-2143-4041-857c-b6625e3bd13e",
   "metadata": {},
   "outputs": [
    {
     "data": {
      "text/plain": [
       "Id                 0\n",
       "MSSubClass         0\n",
       "MSZoning           0\n",
       "LotFrontage      259\n",
       "LotArea            0\n",
       "                ... \n",
       "MoSold             0\n",
       "YrSold             0\n",
       "SaleType           0\n",
       "SaleCondition      0\n",
       "SalePrice          0\n",
       "Length: 81, dtype: int64"
      ]
     },
     "execution_count": 347,
     "metadata": {},
     "output_type": "execute_result"
    }
   ],
   "source": [
    "# columns_with_null = train.isna().sum().index\n",
    "# drop null values to start with, might need to manage null values to avoud losing data\n",
    "train.isna().sum()"
   ]
  },
  {
   "cell_type": "markdown",
   "id": "4c6834ac-b8dc-471a-a8cb-199f8e274726",
   "metadata": {},
   "source": [
    "## Cleaning numeric features"
   ]
  },
  {
   "cell_type": "code",
   "execution_count": 348,
   "id": "3a6dc6fb-8780-4de2-bb85-77d8df3a9ab9",
   "metadata": {},
   "outputs": [],
   "source": [
    "numeric_features = train.select_dtypes(include=np.number).columns"
   ]
  },
  {
   "cell_type": "code",
   "execution_count": 349,
   "id": "c8a781cd-5636-452c-9456-4c51d846c9e3",
   "metadata": {},
   "outputs": [],
   "source": [
    "#filling missing values for numeric values\n",
    "for column in numeric_features:\n",
    "    if train[column].isna().sum() > 0:\n",
    "        column_median = train[column].median()\n",
    "        train[column] = train[column].fillna(column_median)[0]"
   ]
  },
  {
   "cell_type": "code",
   "execution_count": 350,
   "id": "c23b3ef2-1334-4052-ae1b-62259de4fefe",
   "metadata": {},
   "outputs": [
    {
     "data": {
      "text/plain": [
       "Id               0\n",
       "MSSubClass       0\n",
       "LotFrontage      0\n",
       "LotArea          0\n",
       "OverallQual      0\n",
       "OverallCond      0\n",
       "YearBuilt        0\n",
       "YearRemodAdd     0\n",
       "MasVnrArea       0\n",
       "BsmtFinSF1       0\n",
       "BsmtFinSF2       0\n",
       "BsmtUnfSF        0\n",
       "TotalBsmtSF      0\n",
       "1stFlrSF         0\n",
       "2ndFlrSF         0\n",
       "LowQualFinSF     0\n",
       "GrLivArea        0\n",
       "BsmtFullBath     0\n",
       "BsmtHalfBath     0\n",
       "FullBath         0\n",
       "HalfBath         0\n",
       "BedroomAbvGr     0\n",
       "KitchenAbvGr     0\n",
       "TotRmsAbvGrd     0\n",
       "Fireplaces       0\n",
       "GarageYrBlt      0\n",
       "GarageCars       0\n",
       "GarageArea       0\n",
       "WoodDeckSF       0\n",
       "OpenPorchSF      0\n",
       "EnclosedPorch    0\n",
       "3SsnPorch        0\n",
       "ScreenPorch      0\n",
       "PoolArea         0\n",
       "MiscVal          0\n",
       "MoSold           0\n",
       "YrSold           0\n",
       "SalePrice        0\n",
       "dtype: int64"
      ]
     },
     "execution_count": 350,
     "metadata": {},
     "output_type": "execute_result"
    }
   ],
   "source": [
    "train[numeric_features].isna().sum()"
   ]
  },
  {
   "cell_type": "markdown",
   "id": "7d51e531-1a2b-4dd4-9b2d-1b2c7b13dd9f",
   "metadata": {},
   "source": [
    "## Cleaning categorical features"
   ]
  },
  {
   "cell_type": "code",
   "execution_count": 351,
   "id": "8d325772-7882-47e7-b724-2955249ba21d",
   "metadata": {},
   "outputs": [
    {
     "data": {
      "text/plain": [
       "{'Alley',\n",
       " 'BldgType',\n",
       " 'BsmtCond',\n",
       " 'BsmtExposure',\n",
       " 'BsmtFinType1',\n",
       " 'BsmtFinType2',\n",
       " 'BsmtQual',\n",
       " 'CentralAir',\n",
       " 'Condition1',\n",
       " 'Condition2',\n",
       " 'Electrical',\n",
       " 'ExterCond',\n",
       " 'ExterQual',\n",
       " 'Exterior1st',\n",
       " 'Exterior2nd',\n",
       " 'Fence',\n",
       " 'FireplaceQu',\n",
       " 'Foundation',\n",
       " 'Functional',\n",
       " 'GarageCond',\n",
       " 'GarageFinish',\n",
       " 'GarageQual',\n",
       " 'GarageType',\n",
       " 'Heating',\n",
       " 'HeatingQC',\n",
       " 'HouseStyle',\n",
       " 'KitchenQual',\n",
       " 'LandContour',\n",
       " 'LandSlope',\n",
       " 'LotConfig',\n",
       " 'LotShape',\n",
       " 'MSZoning',\n",
       " 'MasVnrType',\n",
       " 'MiscFeature',\n",
       " 'Neighborhood',\n",
       " 'PavedDrive',\n",
       " 'PoolQC',\n",
       " 'RoofMatl',\n",
       " 'RoofStyle',\n",
       " 'SaleCondition',\n",
       " 'SaleType',\n",
       " 'Street',\n",
       " 'Utilities'}"
      ]
     },
     "execution_count": 351,
     "metadata": {},
     "output_type": "execute_result"
    }
   ],
   "source": [
    "categorical_features = set(train.columns) - set(numeric_features)\n",
    "categorical_features"
   ]
  },
  {
   "cell_type": "code",
   "execution_count": 352,
   "id": "13ac0e05-ac70-422a-8d40-a71b1479e0ac",
   "metadata": {},
   "outputs": [],
   "source": [
    "# clean categorical features using mode\n",
    "electrical_mode = train['Electrical'].mode()\n",
    "train['Electrical'] = train['Electrical'] = train['Electrical'].fillna(electrical_mode)[0]\n",
    "fence_mode = train['Fence'].mode()\n",
    "train['Fence'] = train['Fence'].fillna(fence_mode)[0]\n",
    "masvnrtype_mode = train['MasVnrType'].mode()\n",
    "train['MasVnrType'] = train['MasVnrType'].fillna(masvnrtype_mode)[0]"
   ]
  },
  {
   "cell_type": "code",
   "execution_count": 353,
   "id": "80bbbb6a-82d2-4199-9ce5-23efff9bf9e1",
   "metadata": {},
   "outputs": [],
   "source": [
    "# clean other categorical features using \"NA\" where it's an option\n",
    "train[\"FireplaceQu\"].fillna(value = \"NA\", inplace = True)\n",
    "train[\"GarageCond\"].fillna(value = \"NA\", inplace = True)\n",
    "train[\"GarageYrBlt\"].fillna(value = \"NA\", inplace = True)\n",
    "train[\"GarageType\"].fillna(value = \"NA\", inplace = True)\n",
    "train[\"GarageFinish\"].fillna(value = \"NA\", inplace = True)\n",
    "train[\"PoolQC\"].fillna(value = \"NA\", inplace = True)\n",
    "train[\"BsmtQual\"].fillna(value = \"NA\", inplace = True)\n",
    "train[\"GarageQual\"].fillna(value = \"NA\", inplace = True)\n",
    "train[\"Alley\"].fillna(value = \"NA\", inplace = True)\n",
    "train[\"BsmtFinType1\"].fillna(value = \"NA\", inplace = True)\n",
    "train[\"BsmtFinType2\"].fillna(value = \"NA\", inplace = True)\n",
    "train[\"BsmtCond\"].fillna(value = \"NA\", inplace = True)\n",
    "train[\"MiscFeature\"].fillna(value = \"NA\", inplace = True)\n",
    "\n",
    "train.loc[(train[\"BsmtExposure\"].isna()) & (train[\"TotalBsmtSF\"]==936), \"BsmtExposure\"] = train[\"BsmtExposure\"].mode()[0]\n",
    "train[\"BsmtExposure\"].fillna(value = \"NA\", inplace = True)\n",
    "\n",
    "train_filtered = train.loc[train[\"BsmtFinType2\"] != 'Unf']\n",
    "train.loc[(train[\"BsmtFinType2\"].isna()) & (train[\"BsmtFinSF2\"]!=0), \"BsmtFinType2\"] = train_filtered[\"BsmtFinType2\"].mode()[0]\n",
    "train[\"BsmtFinType2\"].fillna(value = \"NA\", inplace = True)"
   ]
  },
  {
   "cell_type": "code",
   "execution_count": 354,
   "id": "b2ee0804-e375-4db0-b4cf-e0184160d253",
   "metadata": {},
   "outputs": [
    {
     "data": {
      "text/plain": [
       "Electrical       0\n",
       "ExterCond        0\n",
       "Fence            0\n",
       "HeatingQC        0\n",
       "LotConfig        0\n",
       "MasVnrType       0\n",
       "Alley            0\n",
       "LotShape         0\n",
       "Condition2       0\n",
       "Foundation       0\n",
       "MSZoning         0\n",
       "Neighborhood     0\n",
       "Heating          0\n",
       "Exterior1st      0\n",
       "SaleCondition    0\n",
       "BsmtFinType1     0\n",
       "KitchenQual      0\n",
       "Utilities        0\n",
       "Street           0\n",
       "BsmtExposure     0\n",
       "LandSlope        0\n",
       "HouseStyle       0\n",
       "PavedDrive       0\n",
       "GarageType       0\n",
       "RoofStyle        0\n",
       "RoofMatl         0\n",
       "Condition1       0\n",
       "SaleType         0\n",
       "Functional       0\n",
       "FireplaceQu      0\n",
       "MiscFeature      0\n",
       "CentralAir       0\n",
       "BsmtQual         0\n",
       "ExterQual        0\n",
       "GarageQual       0\n",
       "Exterior2nd      0\n",
       "BsmtCond         0\n",
       "BldgType         0\n",
       "LandContour      0\n",
       "GarageFinish     0\n",
       "BsmtFinType2     0\n",
       "PoolQC           0\n",
       "GarageCond       0\n",
       "dtype: int64"
      ]
     },
     "execution_count": 354,
     "metadata": {},
     "output_type": "execute_result"
    }
   ],
   "source": [
    "train[list(categorical_features)].isna().sum()"
   ]
  },
  {
   "cell_type": "code",
   "execution_count": 355,
   "id": "bfcd9b64-b702-4eda-ae6f-c5297e0e3113",
   "metadata": {},
   "outputs": [],
   "source": [
    "# one hot encoding for categorical features\n",
    "for cat_col in categorical_features:\n",
    "    train = pd.concat([train, pd.get_dummies(train[cat_col])], axis = 1)\n",
    "    train = train.drop(cat_col, axis = 1)"
   ]
  },
  {
   "cell_type": "code",
   "execution_count": 356,
   "id": "2232aeed-b1dc-4e52-807c-1dbe2fdf9268",
   "metadata": {},
   "outputs": [
    {
     "data": {
      "text/html": [
       "<div>\n",
       "<style scoped>\n",
       "    .dataframe tbody tr th:only-of-type {\n",
       "        vertical-align: middle;\n",
       "    }\n",
       "\n",
       "    .dataframe tbody tr th {\n",
       "        vertical-align: top;\n",
       "    }\n",
       "\n",
       "    .dataframe thead th {\n",
       "        text-align: right;\n",
       "    }\n",
       "</style>\n",
       "<table border=\"1\" class=\"dataframe\">\n",
       "  <thead>\n",
       "    <tr style=\"text-align: right;\">\n",
       "      <th></th>\n",
       "      <th>Id</th>\n",
       "      <th>MSSubClass</th>\n",
       "      <th>LotFrontage</th>\n",
       "      <th>LotArea</th>\n",
       "      <th>OverallQual</th>\n",
       "      <th>OverallCond</th>\n",
       "      <th>YearBuilt</th>\n",
       "      <th>YearRemodAdd</th>\n",
       "      <th>MasVnrArea</th>\n",
       "      <th>BsmtFinSF1</th>\n",
       "      <th>...</th>\n",
       "      <th>Ex</th>\n",
       "      <th>Fa</th>\n",
       "      <th>Gd</th>\n",
       "      <th>NA</th>\n",
       "      <th>Ex</th>\n",
       "      <th>Fa</th>\n",
       "      <th>Gd</th>\n",
       "      <th>NA</th>\n",
       "      <th>Po</th>\n",
       "      <th>TA</th>\n",
       "    </tr>\n",
       "  </thead>\n",
       "  <tbody>\n",
       "    <tr>\n",
       "      <th>0</th>\n",
       "      <td>1</td>\n",
       "      <td>60</td>\n",
       "      <td>65.0</td>\n",
       "      <td>8450</td>\n",
       "      <td>7</td>\n",
       "      <td>5</td>\n",
       "      <td>2003</td>\n",
       "      <td>2003</td>\n",
       "      <td>196.0</td>\n",
       "      <td>706</td>\n",
       "      <td>...</td>\n",
       "      <td>0</td>\n",
       "      <td>0</td>\n",
       "      <td>0</td>\n",
       "      <td>1</td>\n",
       "      <td>0</td>\n",
       "      <td>0</td>\n",
       "      <td>0</td>\n",
       "      <td>0</td>\n",
       "      <td>0</td>\n",
       "      <td>1</td>\n",
       "    </tr>\n",
       "    <tr>\n",
       "      <th>1</th>\n",
       "      <td>2</td>\n",
       "      <td>20</td>\n",
       "      <td>65.0</td>\n",
       "      <td>9600</td>\n",
       "      <td>6</td>\n",
       "      <td>8</td>\n",
       "      <td>1976</td>\n",
       "      <td>1976</td>\n",
       "      <td>196.0</td>\n",
       "      <td>978</td>\n",
       "      <td>...</td>\n",
       "      <td>0</td>\n",
       "      <td>0</td>\n",
       "      <td>0</td>\n",
       "      <td>1</td>\n",
       "      <td>0</td>\n",
       "      <td>0</td>\n",
       "      <td>0</td>\n",
       "      <td>0</td>\n",
       "      <td>0</td>\n",
       "      <td>1</td>\n",
       "    </tr>\n",
       "    <tr>\n",
       "      <th>2</th>\n",
       "      <td>3</td>\n",
       "      <td>60</td>\n",
       "      <td>65.0</td>\n",
       "      <td>11250</td>\n",
       "      <td>7</td>\n",
       "      <td>5</td>\n",
       "      <td>2001</td>\n",
       "      <td>2002</td>\n",
       "      <td>196.0</td>\n",
       "      <td>486</td>\n",
       "      <td>...</td>\n",
       "      <td>0</td>\n",
       "      <td>0</td>\n",
       "      <td>0</td>\n",
       "      <td>1</td>\n",
       "      <td>0</td>\n",
       "      <td>0</td>\n",
       "      <td>0</td>\n",
       "      <td>0</td>\n",
       "      <td>0</td>\n",
       "      <td>1</td>\n",
       "    </tr>\n",
       "    <tr>\n",
       "      <th>3</th>\n",
       "      <td>4</td>\n",
       "      <td>70</td>\n",
       "      <td>65.0</td>\n",
       "      <td>9550</td>\n",
       "      <td>7</td>\n",
       "      <td>5</td>\n",
       "      <td>1915</td>\n",
       "      <td>1970</td>\n",
       "      <td>196.0</td>\n",
       "      <td>216</td>\n",
       "      <td>...</td>\n",
       "      <td>0</td>\n",
       "      <td>0</td>\n",
       "      <td>0</td>\n",
       "      <td>1</td>\n",
       "      <td>0</td>\n",
       "      <td>0</td>\n",
       "      <td>0</td>\n",
       "      <td>0</td>\n",
       "      <td>0</td>\n",
       "      <td>1</td>\n",
       "    </tr>\n",
       "    <tr>\n",
       "      <th>4</th>\n",
       "      <td>5</td>\n",
       "      <td>60</td>\n",
       "      <td>65.0</td>\n",
       "      <td>14260</td>\n",
       "      <td>8</td>\n",
       "      <td>5</td>\n",
       "      <td>2000</td>\n",
       "      <td>2000</td>\n",
       "      <td>196.0</td>\n",
       "      <td>655</td>\n",
       "      <td>...</td>\n",
       "      <td>0</td>\n",
       "      <td>0</td>\n",
       "      <td>0</td>\n",
       "      <td>1</td>\n",
       "      <td>0</td>\n",
       "      <td>0</td>\n",
       "      <td>0</td>\n",
       "      <td>0</td>\n",
       "      <td>0</td>\n",
       "      <td>1</td>\n",
       "    </tr>\n",
       "  </tbody>\n",
       "</table>\n",
       "<p>5 rows × 293 columns</p>\n",
       "</div>"
      ],
      "text/plain": [
       "   Id  MSSubClass  LotFrontage  LotArea  OverallQual  OverallCond  YearBuilt  \\\n",
       "0   1          60         65.0     8450            7            5       2003   \n",
       "1   2          20         65.0     9600            6            8       1976   \n",
       "2   3          60         65.0    11250            7            5       2001   \n",
       "3   4          70         65.0     9550            7            5       1915   \n",
       "4   5          60         65.0    14260            8            5       2000   \n",
       "\n",
       "   YearRemodAdd  MasVnrArea  BsmtFinSF1  ...  Ex  Fa  Gd  NA  Ex  Fa  Gd  NA  \\\n",
       "0          2003       196.0         706  ...   0   0   0   1   0   0   0   0   \n",
       "1          1976       196.0         978  ...   0   0   0   1   0   0   0   0   \n",
       "2          2002       196.0         486  ...   0   0   0   1   0   0   0   0   \n",
       "3          1970       196.0         216  ...   0   0   0   1   0   0   0   0   \n",
       "4          2000       196.0         655  ...   0   0   0   1   0   0   0   0   \n",
       "\n",
       "   Po  TA  \n",
       "0   0   1  \n",
       "1   0   1  \n",
       "2   0   1  \n",
       "3   0   1  \n",
       "4   0   1  \n",
       "\n",
       "[5 rows x 293 columns]"
      ]
     },
     "execution_count": 356,
     "metadata": {},
     "output_type": "execute_result"
    }
   ],
   "source": [
    "train.head()"
   ]
  },
  {
   "cell_type": "code",
   "execution_count": 357,
   "id": "e01a9918-49b1-4389-86a1-501677b7d7ee",
   "metadata": {},
   "outputs": [],
   "source": [
    "x_labels = [x for x in list(train.columns) if x != 'SalePrice']\n",
    "y_labels = ['SalePrice']"
   ]
  },
  {
   "cell_type": "code",
   "execution_count": 358,
   "id": "c163800a-590c-480a-aff5-e9587bf6c949",
   "metadata": {},
   "outputs": [],
   "source": [
    "# split the dataset into train and test using the seed 219 to make sure the results are replicable\n",
    "x_train, x_test, y_train, y_test = train_test_split(\n",
    "            train[x_labels], # x-variables (can change this)\n",
    "            train[y_labels], # y-variable  (can change this)\n",
    "            test_size    = 0.25,\n",
    "            random_state = 219)"
   ]
  },
  {
   "cell_type": "markdown",
   "id": "5af9c006-f64b-418f-9515-cb5553a6ca2d",
   "metadata": {},
   "source": [
    "#### Linear Regression"
   ]
  },
  {
   "cell_type": "code",
   "execution_count": 361,
   "id": "4f15e8ab-62af-46f7-908a-a0dbef7756a4",
   "metadata": {},
   "outputs": [],
   "source": [
    "# train linear regression model using log Y\n",
    "reg = linear_model.LinearRegression().fit(x_train, np.log(y_train))"
   ]
  },
  {
   "cell_type": "code",
   "execution_count": 362,
   "id": "6f4f48ed-4aaf-4969-a5d7-e1404a599b3e",
   "metadata": {},
   "outputs": [
    {
     "data": {
      "text/plain": [
       "561323291.222871"
      ]
     },
     "execution_count": 362,
     "metadata": {},
     "output_type": "execute_result"
    }
   ],
   "source": [
    "# calculate the score of the linear regression model using the test set\n",
    "mean_squared_error(np.log(y_test), reg.predict(x_test))"
   ]
  },
  {
   "cell_type": "markdown",
   "id": "238e7c18-284c-4647-a997-7a837166015d",
   "metadata": {},
   "source": [
    "#### Lasso"
   ]
  },
  {
   "cell_type": "code",
   "execution_count": 363,
   "id": "e42dd1cc-d036-400e-98fa-933527e4d29f",
   "metadata": {},
   "outputs": [],
   "source": [
    "# train lasso using log Y\n",
    "lasso = linear_model.Lasso(alpha=0.04).fit(x_train, np.log(y_train))"
   ]
  },
  {
   "cell_type": "code",
   "execution_count": 364,
   "id": "c54c400b-d1d2-4b14-ac66-ee3c076d2efa",
   "metadata": {},
   "outputs": [
    {
     "data": {
      "text/plain": [
       "0.021896143141649296"
      ]
     },
     "execution_count": 364,
     "metadata": {},
     "output_type": "execute_result"
    }
   ],
   "source": [
    "# calculate the score of the linear regression model using the test set\n",
    "mean_squared_error(np.log(y_test), lasso.predict(x_test))"
   ]
  },
  {
   "cell_type": "markdown",
   "id": "a38488bd-39b6-4896-8e04-2beeb3bd3f6e",
   "metadata": {},
   "source": [
    "#### Random Forest Regressor"
   ]
  },
  {
   "cell_type": "code",
   "execution_count": 365,
   "id": "ec2ec0d1-29f5-4bce-94d4-605b48dbc3da",
   "metadata": {},
   "outputs": [
    {
     "name": "stderr",
     "output_type": "stream",
     "text": [
      "/var/folders/vg/56vp3jj93vd52g2jv8ld1pzh0000gn/T/ipykernel_47118/2038681499.py:2: DataConversionWarning: A column-vector y was passed when a 1d array was expected. Please change the shape of y to (n_samples,), for example using ravel().\n",
      "  rf = ensemble.RandomForestRegressor(n_estimators=100).fit(x_train, np.log(y_train))\n"
     ]
    }
   ],
   "source": [
    "# train random forest regressor using log Y\n",
    "rf = ensemble.RandomForestRegressor(n_estimators=100).fit(x_train, np.log(y_train))"
   ]
  },
  {
   "cell_type": "code",
   "execution_count": 366,
   "id": "df5cbdeb-7aa8-401a-b90f-d85f2a17376a",
   "metadata": {},
   "outputs": [
    {
     "data": {
      "text/plain": [
       "0.019130468561877896"
      ]
     },
     "execution_count": 366,
     "metadata": {},
     "output_type": "execute_result"
    }
   ],
   "source": [
    "# calculate the score of the linear regression model using the test set\n",
    "mean_squared_error(np.log(y_test), rf.predict(x_test))"
   ]
  },
  {
   "cell_type": "markdown",
   "id": "38203abc-02b7-49c7-b278-be608d785ac5",
   "metadata": {},
   "source": [
    "#### Gradient boosting regressor"
   ]
  },
  {
   "cell_type": "code",
   "execution_count": 371,
   "id": "e46132df-393b-487f-9c40-a529542d0bcd",
   "metadata": {},
   "outputs": [
    {
     "name": "stderr",
     "output_type": "stream",
     "text": [
      "/Users/nathaliacardona/opt/anaconda3/lib/python3.9/site-packages/sklearn/ensemble/_gb.py:437: DataConversionWarning: A column-vector y was passed when a 1d array was expected. Please change the shape of y to (n_samples, ), for example using ravel().\n",
      "  y = column_or_1d(y, warn=True)\n"
     ]
    }
   ],
   "source": [
    "gbr = ensemble.GradientBoostingRegressor(n_estimators = 70, criterion='squared_error', learning_rate = 0.05, random_state = 42).fit(x_train, np.log(y_train))"
   ]
  },
  {
   "cell_type": "code",
   "execution_count": 372,
   "id": "ba547b0e-86ed-4df5-9fa0-38d90dfdcfb1",
   "metadata": {},
   "outputs": [
    {
     "data": {
      "text/plain": [
       "0.021269341263232495"
      ]
     },
     "execution_count": 372,
     "metadata": {},
     "output_type": "execute_result"
    }
   ],
   "source": [
    "# calculate the score of the linear regression model using the test set\n",
    "mean_squared_error(np.log(y_test), gbr.predict(x_test))"
   ]
  }
 ],
 "metadata": {
  "kernelspec": {
   "display_name": "Python 3 (ipykernel)",
   "language": "python",
   "name": "python3"
  },
  "language_info": {
   "codemirror_mode": {
    "name": "ipython",
    "version": 3
   },
   "file_extension": ".py",
   "mimetype": "text/x-python",
   "name": "python",
   "nbconvert_exporter": "python",
   "pygments_lexer": "ipython3",
   "version": "3.9.12"
  }
 },
 "nbformat": 4,
 "nbformat_minor": 5
}
